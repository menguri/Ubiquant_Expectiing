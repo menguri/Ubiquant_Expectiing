{
  "cells": [
    {
      "cell_type": "markdown",
      "metadata": {
        "id": "view-in-github",
        "colab_type": "text"
      },
      "source": [
        "<a href=\"https://colab.research.google.com/github/menguri/Ubiquant_Expectiing/blob/main/Check_correlation%26Baseline_lgbm(Bronze_Medal).ipynb\" target=\"_parent\"><img src=\"https://colab.research.google.com/assets/colab-badge.svg\" alt=\"Open In Colab\"/></a>"
      ]
    },
    {
      "cell_type": "markdown",
      "id": "6d47c94c",
      "metadata": {
        "papermill": {
          "duration": 0.023174,
          "end_time": "2022-01-20T10:09:11.591783",
          "exception": false,
          "start_time": "2022-01-20T10:09:11.568609",
          "status": "completed"
        },
        "tags": [],
        "id": "6d47c94c"
      },
      "source": [
        "# **✔ Data Loading & Import**"
      ]
    },
    {
      "cell_type": "code",
      "execution_count": null,
      "id": "662d9307",
      "metadata": {
        "_cell_guid": "b1076dfc-b9ad-4769-8c92-a6c4dae69d19",
        "_uuid": "8f2839f25d086af736a60e9eeb907d3b93b6e0e5",
        "execution": {
          "iopub.execute_input": "2022-01-20T10:09:11.648173Z",
          "iopub.status.busy": "2022-01-20T10:09:11.647403Z",
          "iopub.status.idle": "2022-01-20T10:09:12.513816Z",
          "shell.execute_reply": "2022-01-20T10:09:12.513236Z",
          "shell.execute_reply.started": "2022-01-20T09:34:34.425735Z"
        },
        "papermill": {
          "duration": 0.898585,
          "end_time": "2022-01-20T10:09:12.513963",
          "exception": false,
          "start_time": "2022-01-20T10:09:11.615378",
          "status": "completed"
        },
        "tags": [],
        "id": "662d9307"
      },
      "outputs": [],
      "source": [
        "import numpy as np\n",
        "import pandas as pd\n",
        "import matplotlib.pyplot as plt\n",
        "from pathlib import Path\n",
        "import seaborn as sns"
      ]
    },
    {
      "cell_type": "markdown",
      "id": "c14abbd7",
      "metadata": {
        "papermill": {
          "duration": 0.020961,
          "end_time": "2022-01-20T10:09:12.556428",
          "exception": false,
          "start_time": "2022-01-20T10:09:12.535467",
          "status": "completed"
        },
        "tags": [],
        "id": "c14abbd7"
      },
      "source": [
        "This notebook introduces dataset and code converted from train.csv to pickle file.\n",
        "It takes less than a minute to load all the data, and the data size reduce from 18.5GB to 3.6GB.\n",
        "\n",
        "dataset URL : [https://www.kaggle.com/columbia2131/ump-train-picklefile](https://www.kaggle.com/columbia2131/ump-train-picklefile)"
      ]
    },
    {
      "cell_type": "code",
      "execution_count": null,
      "id": "db374de3",
      "metadata": {
        "execution": {
          "iopub.execute_input": "2022-01-20T10:09:12.605530Z",
          "iopub.status.busy": "2022-01-20T10:09:12.601432Z",
          "iopub.status.idle": "2022-01-20T10:09:12.607716Z",
          "shell.execute_reply": "2022-01-20T10:09:12.607320Z",
          "shell.execute_reply.started": "2022-01-20T09:34:35.248846Z"
        },
        "papermill": {
          "duration": 0.029889,
          "end_time": "2022-01-20T10:09:12.607819",
          "exception": false,
          "start_time": "2022-01-20T10:09:12.577930",
          "status": "completed"
        },
        "tags": [],
        "id": "db374de3"
      },
      "outputs": [],
      "source": [
        "def transform_csv2pickle(path, usecols, dtype):\n",
        "    train = pd.read_csv(\n",
        "        path,\n",
        "        usecols=usecols,\n",
        "        dtype=dtypes\n",
        "    )\n",
        "    train.to_pickle('train.pkl')\n",
        "\n",
        "\n",
        "path = '../input/ubiquant-market-prediction/train.csv'\n",
        "\n",
        "basecols = ['row_id', 'time_id', 'investment_id', 'target']\n",
        "features = [f'f_{i}' for i in range(300)]\n",
        "\n",
        "dtypes = {\n",
        "    'row_id': 'str',\n",
        "    'time_id': 'uint16',\n",
        "    'investment_id': 'uint16',\n",
        "    'target': 'float32',\n",
        "}\n",
        "for col in features:\n",
        "    dtypes[col] = 'float32'\n",
        "\n",
        "# transform_csv2pickle(path, basecols+features, dtypes)"
      ]
    },
    {
      "cell_type": "code",
      "execution_count": null,
      "id": "30877ae7",
      "metadata": {
        "execution": {
          "iopub.execute_input": "2022-01-20T10:09:12.654817Z",
          "iopub.status.busy": "2022-01-20T10:09:12.654030Z",
          "iopub.status.idle": "2022-01-20T10:09:48.365562Z",
          "shell.execute_reply": "2022-01-20T10:09:48.366204Z",
          "shell.execute_reply.started": "2022-01-20T09:34:35.256137Z"
        },
        "papermill": {
          "duration": 35.737173,
          "end_time": "2022-01-20T10:09:48.366418",
          "exception": false,
          "start_time": "2022-01-20T10:09:12.629245",
          "status": "completed"
        },
        "tags": [],
        "id": "30877ae7",
        "outputId": "cf00d831-3c42-43f5-dad5-6b356a4654eb"
      },
      "outputs": [
        {
          "name": "stdout",
          "output_type": "stream",
          "text": [
            "CPU times: user 1.58 s, sys: 4.92 s, total: 6.51 s\n",
            "Wall time: 35.7 s\n"
          ]
        }
      ],
      "source": [
        "%%time\n",
        "train = pd.read_pickle('../input/ump-train-picklefile/train.pkl')"
      ]
    },
    {
      "cell_type": "code",
      "execution_count": null,
      "id": "d24cc563",
      "metadata": {
        "execution": {
          "iopub.execute_input": "2022-01-20T10:09:48.434216Z",
          "iopub.status.busy": "2022-01-20T10:09:48.419190Z",
          "iopub.status.idle": "2022-01-20T10:12:49.283335Z",
          "shell.execute_reply": "2022-01-20T10:12:49.283760Z",
          "shell.execute_reply.started": "2022-01-20T09:35:13.432036Z"
        },
        "papermill": {
          "duration": 180.894318,
          "end_time": "2022-01-20T10:12:49.283921",
          "exception": false,
          "start_time": "2022-01-20T10:09:48.389603",
          "status": "completed"
        },
        "tags": [],
        "id": "d24cc563",
        "outputId": "d9fc5a94-b614-4edb-8c2f-57b87dc6d0f3"
      },
      "outputs": [
        {
          "name": "stdout",
          "output_type": "stream",
          "text": [
            "Memory usage after optimization is: 1915.96 MB\n",
            "Decreased by 47.4%\n"
          ]
        }
      ],
      "source": [
        "start_mem = train.memory_usage().sum() / 1024**2\n",
        "\n",
        "for col in train.columns:\n",
        "    col_type = train[col].dtype\n",
        "\n",
        "    if col_type != object:\n",
        "        c_min = train[col].min()\n",
        "        c_max = train[col].max()\n",
        "        if str(col_type)[:3] == 'int':\n",
        "            if c_min > np.iinfo(np.int8).min and c_max < np.iinfo(np.int8).max:\n",
        "                train[col] = train[col].astype(np.int8)\n",
        "            elif c_min > np.iinfo(np.int16).min and c_max < np.iinfo(np.int16).max:\n",
        "                train[col] = train[col].astype(np.int16)\n",
        "            elif c_min > np.iinfo(np.int32).min and c_max < np.iinfo(np.int32).max:\n",
        "                train[col] = train[col].astype(np.int32)\n",
        "            elif c_min > np.iinfo(np.int64).min and c_max < np.iinfo(np.int64).max:\n",
        "                train[col] = train[col].astype(np.int64)  \n",
        "        else:\n",
        "            if c_min > np.finfo(np.float16).min and c_max < np.finfo(np.float16).max:\n",
        "                train[col] = train[col].astype(np.float16)\n",
        "            elif c_min > np.finfo(np.float32).min and c_max < np.finfo(np.float32).max:\n",
        "                train[col] = train[col].astype(np.float32)\n",
        "            else:\n",
        "                train[col] = train[col].astype(np.float64)\n",
        "    else:\n",
        "        train[col] = train[col].astype('category')\n",
        "\n",
        "end_mem = train.memory_usage().sum() / 1024**2\n",
        "print('Memory usage after optimization is: {:.2f} MB'.format(end_mem))\n",
        "print('Decreased by {:.1f}%'.format(100 * (start_mem - end_mem) / start_mem))"
      ]
    },
    {
      "cell_type": "code",
      "execution_count": null,
      "id": "9c35bc14",
      "metadata": {
        "execution": {
          "iopub.execute_input": "2022-01-20T10:12:49.331317Z",
          "iopub.status.busy": "2022-01-20T10:12:49.330767Z",
          "iopub.status.idle": "2022-01-20T10:12:49.333926Z",
          "shell.execute_reply": "2022-01-20T10:12:49.333460Z",
          "shell.execute_reply.started": "2022-01-20T08:47:33.182054Z"
        },
        "papermill": {
          "duration": 0.028035,
          "end_time": "2022-01-20T10:12:49.334032",
          "exception": false,
          "start_time": "2022-01-20T10:12:49.305997",
          "status": "completed"
        },
        "tags": [],
        "id": "9c35bc14"
      },
      "outputs": [],
      "source": [
        "# DATA_PATH = Path('../input/ump-train-picklefile')\n",
        "# SAMPLE_TEST_PATH = Path('../input/ubiquant-market-prediction')\n",
        "# !ls $SAMPLE_TEST_PATH"
      ]
    },
    {
      "cell_type": "markdown",
      "id": "e6dde48f",
      "metadata": {
        "papermill": {
          "duration": 0.024171,
          "end_time": "2022-01-20T10:12:49.382825",
          "exception": false,
          "start_time": "2022-01-20T10:12:49.358654",
          "status": "completed"
        },
        "tags": [],
        "id": "e6dde48f"
      },
      "source": [
        "# **🙄 Simple EDA**"
      ]
    },
    {
      "cell_type": "markdown",
      "id": "0391ac8f",
      "metadata": {
        "papermill": {
          "duration": 0.024878,
          "end_time": "2022-01-20T10:12:49.432432",
          "exception": false,
          "start_time": "2022-01-20T10:12:49.407554",
          "status": "completed"
        },
        "tags": [],
        "id": "0391ac8f"
      },
      "source": [
        "**About train...**"
      ]
    },
    {
      "cell_type": "code",
      "execution_count": null,
      "id": "30be0874",
      "metadata": {
        "execution": {
          "iopub.execute_input": "2022-01-20T10:12:49.492291Z",
          "iopub.status.busy": "2022-01-20T10:12:49.491548Z",
          "iopub.status.idle": "2022-01-20T10:12:50.794761Z",
          "shell.execute_reply": "2022-01-20T10:12:50.795208Z",
          "shell.execute_reply.started": "2022-01-20T08:47:33.188273Z"
        },
        "papermill": {
          "duration": 1.338034,
          "end_time": "2022-01-20T10:12:50.795375",
          "exception": false,
          "start_time": "2022-01-20T10:12:49.457341",
          "status": "completed"
        },
        "tags": [],
        "id": "30be0874",
        "outputId": "f92b1a1f-d095-4b63-e8a6-af4172be0f8c"
      },
      "outputs": [
        {
          "name": "stdout",
          "output_type": "stream",
          "text": [
            "<class 'pandas.core.frame.DataFrame'>\n",
            "RangeIndex: 3141410 entries, 0 to 3141409\n",
            "Columns: 304 entries, row_id to f_299\n",
            "dtypes: category(1), float16(303)\n",
            "memory usage: 1.9 GB\n"
          ]
        },
        {
          "data": {
            "text/plain": [
              "None"
            ]
          },
          "metadata": {},
          "output_type": "display_data"
        },
        {
          "data": {
            "text/html": [
              "<div>\n",
              "<style scoped>\n",
              "    .dataframe tbody tr th:only-of-type {\n",
              "        vertical-align: middle;\n",
              "    }\n",
              "\n",
              "    .dataframe tbody tr th {\n",
              "        vertical-align: top;\n",
              "    }\n",
              "\n",
              "    .dataframe thead th {\n",
              "        text-align: right;\n",
              "    }\n",
              "</style>\n",
              "<table border=\"1\" class=\"dataframe\">\n",
              "  <thead>\n",
              "    <tr style=\"text-align: right;\">\n",
              "      <th></th>\n",
              "      <th>row_id</th>\n",
              "      <th>time_id</th>\n",
              "      <th>investment_id</th>\n",
              "      <th>target</th>\n",
              "      <th>f_0</th>\n",
              "      <th>f_1</th>\n",
              "      <th>f_2</th>\n",
              "      <th>f_3</th>\n",
              "      <th>f_4</th>\n",
              "      <th>f_5</th>\n",
              "      <th>...</th>\n",
              "      <th>f_290</th>\n",
              "      <th>f_291</th>\n",
              "      <th>f_292</th>\n",
              "      <th>f_293</th>\n",
              "      <th>f_294</th>\n",
              "      <th>f_295</th>\n",
              "      <th>f_296</th>\n",
              "      <th>f_297</th>\n",
              "      <th>f_298</th>\n",
              "      <th>f_299</th>\n",
              "    </tr>\n",
              "  </thead>\n",
              "  <tbody>\n",
              "    <tr>\n",
              "      <th>0</th>\n",
              "      <td>0_1</td>\n",
              "      <td>0.0</td>\n",
              "      <td>1.0</td>\n",
              "      <td>-0.300781</td>\n",
              "      <td>0.932617</td>\n",
              "      <td>0.113708</td>\n",
              "      <td>-0.402100</td>\n",
              "      <td>0.378418</td>\n",
              "      <td>-0.203979</td>\n",
              "      <td>-0.413574</td>\n",
              "      <td>...</td>\n",
              "      <td>0.365967</td>\n",
              "      <td>-1.095703</td>\n",
              "      <td>0.200073</td>\n",
              "      <td>0.819336</td>\n",
              "      <td>0.941406</td>\n",
              "      <td>-0.086792</td>\n",
              "      <td>-1.086914</td>\n",
              "      <td>-1.044922</td>\n",
              "      <td>-0.287598</td>\n",
              "      <td>0.321533</td>\n",
              "    </tr>\n",
              "    <tr>\n",
              "      <th>1</th>\n",
              "      <td>0_2</td>\n",
              "      <td>0.0</td>\n",
              "      <td>2.0</td>\n",
              "      <td>-0.231079</td>\n",
              "      <td>0.811035</td>\n",
              "      <td>-0.514160</td>\n",
              "      <td>0.742188</td>\n",
              "      <td>-0.616699</td>\n",
              "      <td>-0.194214</td>\n",
              "      <td>1.771484</td>\n",
              "      <td>...</td>\n",
              "      <td>-0.154175</td>\n",
              "      <td>0.912598</td>\n",
              "      <td>-0.734375</td>\n",
              "      <td>0.819336</td>\n",
              "      <td>0.941406</td>\n",
              "      <td>-0.387695</td>\n",
              "      <td>-1.086914</td>\n",
              "      <td>-0.929688</td>\n",
              "      <td>-0.974121</td>\n",
              "      <td>-0.343506</td>\n",
              "    </tr>\n",
              "    <tr>\n",
              "      <th>2</th>\n",
              "      <td>0_6</td>\n",
              "      <td>0.0</td>\n",
              "      <td>6.0</td>\n",
              "      <td>0.568848</td>\n",
              "      <td>0.394043</td>\n",
              "      <td>0.615723</td>\n",
              "      <td>0.567871</td>\n",
              "      <td>-0.607910</td>\n",
              "      <td>0.068909</td>\n",
              "      <td>-1.083008</td>\n",
              "      <td>...</td>\n",
              "      <td>-0.138062</td>\n",
              "      <td>0.912598</td>\n",
              "      <td>-0.551758</td>\n",
              "      <td>-1.220703</td>\n",
              "      <td>-1.060547</td>\n",
              "      <td>-0.219116</td>\n",
              "      <td>-1.086914</td>\n",
              "      <td>-0.612305</td>\n",
              "      <td>-0.113953</td>\n",
              "      <td>0.243652</td>\n",
              "    </tr>\n",
              "    <tr>\n",
              "      <th>3</th>\n",
              "      <td>0_7</td>\n",
              "      <td>0.0</td>\n",
              "      <td>7.0</td>\n",
              "      <td>-1.064453</td>\n",
              "      <td>-2.343750</td>\n",
              "      <td>-0.011871</td>\n",
              "      <td>1.875000</td>\n",
              "      <td>-0.606445</td>\n",
              "      <td>-0.586914</td>\n",
              "      <td>-0.815918</td>\n",
              "      <td>...</td>\n",
              "      <td>0.382080</td>\n",
              "      <td>0.912598</td>\n",
              "      <td>-0.266357</td>\n",
              "      <td>-1.220703</td>\n",
              "      <td>0.941406</td>\n",
              "      <td>-0.608887</td>\n",
              "      <td>0.104919</td>\n",
              "      <td>-0.783203</td>\n",
              "      <td>1.151367</td>\n",
              "      <td>-0.773438</td>\n",
              "    </tr>\n",
              "    <tr>\n",
              "      <th>4</th>\n",
              "      <td>0_8</td>\n",
              "      <td>0.0</td>\n",
              "      <td>8.0</td>\n",
              "      <td>-0.531738</td>\n",
              "      <td>0.842285</td>\n",
              "      <td>-0.262939</td>\n",
              "      <td>2.330078</td>\n",
              "      <td>-0.583496</td>\n",
              "      <td>-0.618164</td>\n",
              "      <td>-0.742676</td>\n",
              "      <td>...</td>\n",
              "      <td>-0.170410</td>\n",
              "      <td>0.912598</td>\n",
              "      <td>-0.741211</td>\n",
              "      <td>-1.220703</td>\n",
              "      <td>0.941406</td>\n",
              "      <td>-0.588379</td>\n",
              "      <td>0.104919</td>\n",
              "      <td>0.753418</td>\n",
              "      <td>1.345703</td>\n",
              "      <td>-0.737793</td>\n",
              "    </tr>\n",
              "  </tbody>\n",
              "</table>\n",
              "<p>5 rows × 304 columns</p>\n",
              "</div>"
            ],
            "text/plain": [
              "  row_id  time_id  investment_id    target       f_0       f_1       f_2  \\\n",
              "0    0_1      0.0            1.0 -0.300781  0.932617  0.113708 -0.402100   \n",
              "1    0_2      0.0            2.0 -0.231079  0.811035 -0.514160  0.742188   \n",
              "2    0_6      0.0            6.0  0.568848  0.394043  0.615723  0.567871   \n",
              "3    0_7      0.0            7.0 -1.064453 -2.343750 -0.011871  1.875000   \n",
              "4    0_8      0.0            8.0 -0.531738  0.842285 -0.262939  2.330078   \n",
              "\n",
              "        f_3       f_4       f_5  ...     f_290     f_291     f_292     f_293  \\\n",
              "0  0.378418 -0.203979 -0.413574  ...  0.365967 -1.095703  0.200073  0.819336   \n",
              "1 -0.616699 -0.194214  1.771484  ... -0.154175  0.912598 -0.734375  0.819336   \n",
              "2 -0.607910  0.068909 -1.083008  ... -0.138062  0.912598 -0.551758 -1.220703   \n",
              "3 -0.606445 -0.586914 -0.815918  ...  0.382080  0.912598 -0.266357 -1.220703   \n",
              "4 -0.583496 -0.618164 -0.742676  ... -0.170410  0.912598 -0.741211 -1.220703   \n",
              "\n",
              "      f_294     f_295     f_296     f_297     f_298     f_299  \n",
              "0  0.941406 -0.086792 -1.086914 -1.044922 -0.287598  0.321533  \n",
              "1  0.941406 -0.387695 -1.086914 -0.929688 -0.974121 -0.343506  \n",
              "2 -1.060547 -0.219116 -1.086914 -0.612305 -0.113953  0.243652  \n",
              "3  0.941406 -0.608887  0.104919 -0.783203  1.151367 -0.773438  \n",
              "4  0.941406 -0.588379  0.104919  0.753418  1.345703 -0.737793  \n",
              "\n",
              "[5 rows x 304 columns]"
            ]
          },
          "metadata": {},
          "output_type": "display_data"
        }
      ],
      "source": [
        "display(train.info())\n",
        "display(train.head())"
      ]
    },
    {
      "cell_type": "code",
      "execution_count": null,
      "id": "c26fbf27",
      "metadata": {
        "execution": {
          "iopub.execute_input": "2022-01-20T10:12:50.848007Z",
          "iopub.status.busy": "2022-01-20T10:12:50.847170Z",
          "iopub.status.idle": "2022-01-20T10:12:50.850613Z",
          "shell.execute_reply": "2022-01-20T10:12:50.850031Z",
          "shell.execute_reply.started": "2022-01-20T08:47:34.856122Z"
        },
        "papermill": {
          "duration": 0.030589,
          "end_time": "2022-01-20T10:12:50.850727",
          "exception": false,
          "start_time": "2022-01-20T10:12:50.820138",
          "status": "completed"
        },
        "tags": [],
        "id": "c26fbf27",
        "outputId": "7b12b993-1d20-4551-fbe1-a3181388718b"
      },
      "outputs": [
        {
          "data": {
            "text/plain": [
              "3141410"
            ]
          },
          "execution_count": 7,
          "metadata": {},
          "output_type": "execute_result"
        }
      ],
      "source": [
        "len(train)"
      ]
    },
    {
      "cell_type": "code",
      "execution_count": null,
      "id": "db67381f",
      "metadata": {
        "execution": {
          "iopub.execute_input": "2022-01-20T10:12:50.909256Z",
          "iopub.status.busy": "2022-01-20T10:12:50.908545Z",
          "iopub.status.idle": "2022-01-20T10:12:50.911462Z",
          "shell.execute_reply": "2022-01-20T10:12:50.911905Z",
          "shell.execute_reply.started": "2022-01-20T08:47:34.873209Z"
        },
        "papermill": {
          "duration": 0.0349,
          "end_time": "2022-01-20T10:12:50.912032",
          "exception": false,
          "start_time": "2022-01-20T10:12:50.877132",
          "status": "completed"
        },
        "tags": [],
        "id": "db67381f",
        "outputId": "33d51332-e13b-4c7f-b82d-8a5bdd93baab"
      },
      "outputs": [
        {
          "data": {
            "text/plain": [
              "Index(['row_id', 'time_id', 'investment_id', 'target', 'f_0', 'f_1', 'f_2',\n",
              "       'f_3', 'f_4', 'f_5',\n",
              "       ...\n",
              "       'f_290', 'f_291', 'f_292', 'f_293', 'f_294', 'f_295', 'f_296', 'f_297',\n",
              "       'f_298', 'f_299'],\n",
              "      dtype='object', length=304)"
            ]
          },
          "execution_count": 8,
          "metadata": {},
          "output_type": "execute_result"
        }
      ],
      "source": [
        "# row_id\n",
        "# time_id\n",
        "# investment_id\n",
        "# target\n",
        "# f_0 - f_299\n",
        "\n",
        "train.columns"
      ]
    },
    {
      "cell_type": "markdown",
      "id": "4176c01e",
      "metadata": {
        "papermill": {
          "duration": 0.025425,
          "end_time": "2022-01-20T10:12:50.963421",
          "exception": false,
          "start_time": "2022-01-20T10:12:50.937996",
          "status": "completed"
        },
        "tags": [],
        "id": "4176c01e"
      },
      "source": [
        "**Target Mean**\n",
        "\n",
        "Let's see how target values change"
      ]
    },
    {
      "cell_type": "code",
      "execution_count": null,
      "id": "8b7d7f80",
      "metadata": {
        "execution": {
          "iopub.execute_input": "2022-01-20T10:12:51.020593Z",
          "iopub.status.busy": "2022-01-20T10:12:51.019828Z",
          "iopub.status.idle": "2022-01-20T10:13:04.201189Z",
          "shell.execute_reply": "2022-01-20T10:13:04.200759Z",
          "shell.execute_reply.started": "2022-01-20T08:47:34.889638Z"
        },
        "papermill": {
          "duration": 13.21206,
          "end_time": "2022-01-20T10:13:04.201324",
          "exception": false,
          "start_time": "2022-01-20T10:12:50.989264",
          "status": "completed"
        },
        "tags": [],
        "id": "8b7d7f80",
        "outputId": "90ee85e5-608b-4764-8a15-97a4d87d4fc1"
      },
      "outputs": [
        {
          "data": {
            "image/png": "[encoded data removed]",
            "text/plain": [
              "<Figure size 432x288 with 1 Axes>"
            ]
          },
          "metadata": {
            "needs_background": "light"
          },
          "output_type": "display_data"
        }
      ],
      "source": [
        "# Groupby time\n",
        "# target values in Specific time[380 - 550] have large Volatility\n",
        "dic = {}\n",
        "for i in range(0, 1220):\n",
        "    train_time = train['target'][train['time_id'] == i].mean()\n",
        "    dic[f'{i}'] = train_time\n",
        "\n",
        "\n",
        "time_df = pd.Series(dic)\n",
        "del dic\n",
        "\n",
        "time_df.plot()\n",
        "plt.show()"
      ]
    },
    {
      "cell_type": "code",
      "execution_count": null,
      "id": "76980279",
      "metadata": {
        "execution": {
          "iopub.execute_input": "2022-01-20T10:13:04.709365Z",
          "iopub.status.busy": "2022-01-20T10:13:04.708418Z",
          "iopub.status.idle": "2022-01-20T10:13:56.638686Z",
          "shell.execute_reply": "2022-01-20T10:13:56.639152Z",
          "shell.execute_reply.started": "2022-01-20T08:47:47.396243Z"
        },
        "papermill": {
          "duration": 52.412481,
          "end_time": "2022-01-20T10:13:56.639304",
          "exception": false,
          "start_time": "2022-01-20T10:13:04.226823",
          "status": "completed"
        },
        "tags": [],
        "id": "76980279",
        "outputId": "d877e99a-cedb-464d-85e9-38f824f7c473"
      },
      "outputs": [
        {
          "data": {
            "image/png": "[encoded data removed]",
            "text/plain": [
              "<Figure size 432x288 with 1 Axes>"
            ]
          },
          "metadata": {
            "needs_background": "light"
          },
          "output_type": "display_data"
        }
      ],
      "source": [
        "# Groupby Investment_id\n",
        "dic = {}\n",
        "for i in list(set(list(train['investment_id']))):\n",
        "    train_invest_id = train['target'][train['investment_id'] == i].mean()\n",
        "    dic[f'{i}'] = train_invest_id\n",
        "\n",
        "\n",
        "train_invest_id_df = pd.Series(dic)\n",
        "del dic\n",
        "\n",
        "train_invest_id_df.plot()\n",
        "plt.show()"
      ]
    },
    {
      "cell_type": "markdown",
      "id": "7708868d",
      "metadata": {
        "papermill": {
          "duration": 0.025301,
          "end_time": "2022-01-20T10:13:56.690543",
          "exception": false,
          "start_time": "2022-01-20T10:13:56.665242",
          "status": "completed"
        },
        "tags": [],
        "id": "7708868d"
      },
      "source": [
        "# **🤞 Correlation**"
      ]
    },
    {
      "cell_type": "markdown",
      "id": "ec47f003",
      "metadata": {
        "papermill": {
          "duration": 0.025148,
          "end_time": "2022-01-20T10:13:56.741196",
          "exception": false,
          "start_time": "2022-01-20T10:13:56.716048",
          "status": "completed"
        },
        "tags": [],
        "id": "ec47f003"
      },
      "source": [
        "**Step 1 : just Correlation & Target**\n",
        "\n",
        "**Check Correlation target & f_0 - f_300**\n",
        "\n",
        "humm... can't find something special variable. \n",
        "they all have just low correlation with target"
      ]
    },
    {
      "cell_type": "code",
      "execution_count": null,
      "id": "b5118019",
      "metadata": {
        "execution": {
          "iopub.execute_input": "2022-01-20T10:13:56.800634Z",
          "iopub.status.busy": "2022-01-20T10:13:56.799626Z",
          "iopub.status.idle": "2022-01-20T10:14:27.381738Z",
          "shell.execute_reply": "2022-01-20T10:14:27.382386Z",
          "shell.execute_reply.started": "2022-01-20T08:37:36.980128Z"
        },
        "papermill": {
          "duration": 30.615779,
          "end_time": "2022-01-20T10:14:27.382659",
          "exception": false,
          "start_time": "2022-01-20T10:13:56.766880",
          "status": "completed"
        },
        "tags": [],
        "id": "b5118019",
        "outputId": "ed8942d5-dc71-4470-fdcc-7224e86c1531"
      },
      "outputs": [
        {
          "name": "stdout",
          "output_type": "stream",
          "text": [
            "target & f_0 Correlation is 0.009622624518008669\n",
            "target & f_1 Correlation is -0.015878122220306722\n",
            "target & f_2 Correlation is 0.02411954207564331\n",
            "target & f_3 Correlation is -0.03453516890073399\n",
            "target & f_4 Correlation is -0.0053177881001054425\n",
            "target & f_5 Correlation is 0.03082517839871968\n",
            "target & f_6 Correlation is -0.01372654579056958\n",
            "target & f_7 Correlation is -0.0014738864451799597\n",
            "target & f_8 Correlation is 0.023749732423903654\n",
            "target & f_9 Correlation is -0.020845647091986254\n",
            "target & f_10 Correlation is 0.013776362641494207\n",
            "target & f_11 Correlation is 0.016860014598799867\n",
            "target & f_12 Correlation is 0.008960248706712826\n",
            "target & f_13 Correlation is -0.004795530864366416\n",
            "target & f_14 Correlation is -0.019423618429999706\n",
            "target & f_15 Correlation is -0.043520741419668274\n",
            "target & f_16 Correlation is -0.03193905937504301\n",
            "target & f_17 Correlation is 0.03424964179309064\n",
            "target & f_18 Correlation is 0.013009773836214709\n",
            "target & f_19 Correlation is -0.010292059888858658\n",
            "target & f_20 Correlation is 0.002987655131747109\n",
            "target & f_21 Correlation is -0.038226784579151275\n",
            "target & f_22 Correlation is 0.014628469445153369\n",
            "target & f_23 Correlation is -0.024979617446083707\n",
            "target & f_24 Correlation is -0.012863353376272696\n",
            "target & f_25 Correlation is -0.04464214403376041\n",
            "target & f_26 Correlation is 0.022559494640444135\n",
            "target & f_27 Correlation is -0.0017123102572851705\n",
            "target & f_28 Correlation is -0.01938949837100735\n",
            "target & f_29 Correlation is 0.026382438551295684\n",
            "target & f_30 Correlation is 0.0005636302519649398\n",
            "target & f_31 Correlation is -0.03437725609100929\n",
            "target & f_32 Correlation is 0.012892905986137956\n",
            "target & f_33 Correlation is 0.02372102374803101\n",
            "target & f_34 Correlation is 0.01447246231915699\n",
            "target & f_35 Correlation is -0.01076811421534504\n",
            "target & f_36 Correlation is -0.02566399946877268\n",
            "target & f_37 Correlation is 0.01323154822772765\n",
            "target & f_38 Correlation is -0.020648760498427565\n",
            "target & f_39 Correlation is -0.010464907369722559\n",
            "target & f_40 Correlation is -0.013376937379790928\n",
            "target & f_41 Correlation is -0.03744904142757762\n",
            "target & f_42 Correlation is -0.03794748214549788\n",
            "target & f_43 Correlation is -0.028033961462412396\n",
            "target & f_44 Correlation is -0.03112221399416172\n",
            "target & f_45 Correlation is -0.020346005042011797\n",
            "target & f_46 Correlation is -0.01927909895089262\n",
            "target & f_47 Correlation is -0.025225023182235615\n",
            "target & f_48 Correlation is -0.015509420917058538\n",
            "target & f_49 Correlation is -0.00501397131459494\n",
            "target & f_50 Correlation is -0.012859874886755345\n",
            "target & f_51 Correlation is -0.01998632088047953\n",
            "target & f_52 Correlation is -0.03552193354518371\n",
            "target & f_53 Correlation is -0.013854271991647588\n",
            "target & f_54 Correlation is -0.023832378197188243\n",
            "target & f_55 Correlation is -0.027502985639746732\n",
            "target & f_56 Correlation is 0.0065187363594550315\n",
            "target & f_57 Correlation is -0.012592019793259789\n",
            "target & f_58 Correlation is -0.0399409040270759\n",
            "target & f_59 Correlation is -0.020145517092210453\n",
            "target & f_60 Correlation is 0.007912962978991809\n",
            "target & f_61 Correlation is -0.005531465883161659\n",
            "target & f_62 Correlation is -0.0166215823312288\n",
            "target & f_63 Correlation is 0.0005865295199211505\n",
            "target & f_64 Correlation is -0.023336750752537393\n",
            "target & f_65 Correlation is -0.04565617453869024\n",
            "target & f_66 Correlation is -0.001639989590206693\n",
            "target & f_67 Correlation is 0.006901823972982632\n",
            "target & f_68 Correlation is -0.028952222750685208\n",
            "target & f_69 Correlation is -0.022885712887946368\n",
            "target & f_70 Correlation is -0.0065942127944066346\n",
            "target & f_71 Correlation is -0.043965902323464034\n",
            "target & f_72 Correlation is 0.0241476699194457\n",
            "target & f_73 Correlation is -0.0018989289655113896\n",
            "target & f_74 Correlation is -0.00019604420734187333\n",
            "target & f_75 Correlation is -0.0050281733430560145\n",
            "target & f_76 Correlation is 0.040874332454897966\n",
            "target & f_77 Correlation is -0.03057615878555675\n",
            "target & f_78 Correlation is -0.0335917328502512\n",
            "target & f_79 Correlation is -0.03645314673436658\n",
            "target & f_80 Correlation is -0.03627878587318964\n",
            "target & f_81 Correlation is 0.01484274267074531\n",
            "target & f_82 Correlation is -0.025073437402615376\n",
            "target & f_83 Correlation is -0.03605518955132538\n",
            "target & f_84 Correlation is -0.0003171837134255277\n",
            "target & f_85 Correlation is -0.03210843834415251\n",
            "target & f_86 Correlation is -0.01672287498784529\n",
            "target & f_87 Correlation is -0.029377284022646236\n",
            "target & f_88 Correlation is 0.02913908332321767\n",
            "target & f_89 Correlation is -0.01980040356423434\n",
            "target & f_90 Correlation is -0.032509821049501834\n",
            "target & f_91 Correlation is -0.028838570117394245\n",
            "target & f_92 Correlation is -0.03928129010105482\n",
            "target & f_93 Correlation is 0.03980456824400277\n",
            "target & f_94 Correlation is 0.022635730848574925\n",
            "target & f_95 Correlation is 0.015266283920492242\n",
            "target & f_96 Correlation is -0.030102585671492356\n",
            "target & f_97 Correlation is -0.01555277477172663\n",
            "target & f_98 Correlation is -0.021854718785841113\n",
            "target & f_99 Correlation is -0.007305339729076588\n",
            "target & f_100 Correlation is -0.038692630327745954\n",
            "target & f_101 Correlation is -0.010168293261712638\n",
            "target & f_102 Correlation is 0.0037517445073273255\n",
            "target & f_103 Correlation is 0.022114424937506365\n",
            "target & f_104 Correlation is -0.020109333260237033\n",
            "target & f_105 Correlation is -0.02195678221248627\n",
            "target & f_106 Correlation is -0.03851840688887008\n",
            "target & f_107 Correlation is -0.006958419418505466\n",
            "target & f_108 Correlation is 0.016974181994927708\n",
            "target & f_109 Correlation is 0.03052842926238236\n",
            "target & f_110 Correlation is -0.009654553434398389\n",
            "target & f_111 Correlation is -0.0025136206296266276\n",
            "target & f_112 Correlation is 0.021449575306974722\n",
            "target & f_113 Correlation is -0.03329335889777107\n",
            "target & f_114 Correlation is 0.02854125604738913\n",
            "target & f_115 Correlation is 0.0018685854805395633\n",
            "target & f_116 Correlation is -0.029590328369268153\n",
            "target & f_117 Correlation is -0.016614657281318487\n",
            "target & f_118 Correlation is -0.03991460275370233\n",
            "target & f_119 Correlation is 0.049403539855692624\n",
            "target & f_120 Correlation is 0.0010221439017195778\n",
            "target & f_121 Correlation is -0.029880795767423262\n",
            "target & f_122 Correlation is -0.0020871251824375985\n",
            "target & f_123 Correlation is -0.013831603932197092\n",
            "target & f_124 Correlation is 0.00024166316566359553\n",
            "target & f_125 Correlation is 0.02137442313358066\n",
            "target & f_126 Correlation is -0.015059136699863552\n",
            "target & f_127 Correlation is -0.014909364657826595\n",
            "target & f_128 Correlation is -0.015091592476473981\n",
            "target & f_129 Correlation is 0.0026795930200292045\n",
            "target & f_130 Correlation is 0.01615079297053904\n",
            "target & f_131 Correlation is -0.018849056801329526\n",
            "target & f_132 Correlation is -0.0252727514496814\n",
            "target & f_133 Correlation is -0.02344377259073476\n",
            "target & f_134 Correlation is -0.02564622380073416\n",
            "target & f_135 Correlation is -0.038188010276081374\n",
            "target & f_136 Correlation is -0.02851342507637214\n",
            "target & f_137 Correlation is -0.04036097544593248\n",
            "target & f_138 Correlation is -0.011622871929380307\n",
            "target & f_139 Correlation is -0.022449757605649844\n",
            "target & f_140 Correlation is -0.014664236074943618\n",
            "target & f_141 Correlation is 0.014634612387107651\n",
            "target & f_142 Correlation is 0.014811866052037468\n",
            "target & f_143 Correlation is -0.01895898834242904\n",
            "target & f_144 Correlation is -0.028938344576223237\n",
            "target & f_145 Correlation is 0.037065572379686544\n",
            "target & f_146 Correlation is -0.03638115230412475\n",
            "target & f_147 Correlation is -0.024321187086279002\n",
            "target & f_148 Correlation is -0.003665646257398289\n",
            "target & f_149 Correlation is -0.011702914195792643\n",
            "target & f_150 Correlation is 0.03431225690332037\n",
            "target & f_151 Correlation is 0.018319060763680475\n",
            "target & f_152 Correlation is 0.014582417832921718\n",
            "target & f_153 Correlation is 0.030855457830078925\n",
            "target & f_154 Correlation is 0.0027203749699950784\n",
            "target & f_155 Correlation is -0.044369967208581364\n",
            "target & f_156 Correlation is -0.019175293908200917\n",
            "target & f_157 Correlation is -0.013950207029011851\n",
            "target & f_158 Correlation is -0.024280253996832552\n",
            "target & f_159 Correlation is -0.018352196148759936\n",
            "target & f_160 Correlation is -0.02922652566357718\n",
            "target & f_161 Correlation is -0.01389853329425451\n",
            "target & f_162 Correlation is 0.025673499043370226\n",
            "target & f_163 Correlation is -0.028561923337609273\n",
            "target & f_164 Correlation is -0.00466620985425825\n",
            "target & f_165 Correlation is -0.040247374132045426\n",
            "target & f_166 Correlation is 0.011825756550470634\n",
            "target & f_167 Correlation is -0.02812527386601529\n",
            "target & f_168 Correlation is -0.03973307820190442\n",
            "target & f_169 Correlation is 0.0341232404106763\n",
            "target & f_170 Correlation is -0.0007448670239561595\n",
            "target & f_171 Correlation is -0.018192557509515938\n",
            "target & f_172 Correlation is -0.03999372720744928\n",
            "target & f_173 Correlation is -0.029557195227363466\n",
            "target & f_174 Correlation is 0.030436483049828798\n",
            "target & f_175 Correlation is 0.0023997980151115816\n",
            "target & f_176 Correlation is -0.010862919769541552\n",
            "target & f_177 Correlation is 0.02026614920198854\n",
            "target & f_178 Correlation is -0.015616403703631739\n",
            "target & f_179 Correlation is -0.042872241862039646\n",
            "target & f_180 Correlation is 0.01164365929648425\n",
            "target & f_181 Correlation is 0.02678651715299632\n",
            "target & f_182 Correlation is -0.0015507193302290168\n",
            "target & f_183 Correlation is 0.005397918639495401\n",
            "target & f_184 Correlation is -0.02768444724993046\n",
            "target & f_185 Correlation is -0.03930096189341944\n",
            "target & f_186 Correlation is 0.014640741455028479\n",
            "target & f_187 Correlation is -0.03827437776231417\n",
            "target & f_188 Correlation is -0.029156950455158134\n",
            "target & f_189 Correlation is -0.018828579539533045\n",
            "target & f_190 Correlation is -0.04194544065848006\n",
            "target & f_191 Correlation is -0.010857202823282506\n",
            "target & f_192 Correlation is 0.024312606264819396\n",
            "target & f_193 Correlation is -0.030000132492882896\n",
            "target & f_194 Correlation is 0.03308937895659111\n",
            "target & f_195 Correlation is -0.017469392279675373\n",
            "target & f_196 Correlation is 0.017679533647918695\n",
            "target & f_197 Correlation is -0.04612753960951319\n",
            "target & f_198 Correlation is 0.01947102234118649\n",
            "target & f_199 Correlation is -0.01210324941177036\n",
            "target & f_200 Correlation is -0.004216613041646981\n",
            "target & f_201 Correlation is -0.01050811227958289\n",
            "target & f_202 Correlation is -0.007457989582223911\n",
            "target & f_203 Correlation is -0.02230488217828849\n",
            "target & f_204 Correlation is 0.0126184163750683\n",
            "target & f_205 Correlation is -0.005091355271365014\n",
            "target & f_206 Correlation is -0.029934643390653395\n",
            "target & f_207 Correlation is -0.034339729557968594\n",
            "target & f_208 Correlation is -0.017144199055383936\n",
            "target & f_209 Correlation is -0.02075334061704194\n",
            "target & f_210 Correlation is -0.029528577337403283\n",
            "target & f_211 Correlation is -0.01103584246938318\n",
            "target & f_212 Correlation is -0.04289089039985907\n",
            "target & f_213 Correlation is -0.015817917705936668\n",
            "target & f_214 Correlation is -0.036066981805400945\n",
            "target & f_215 Correlation is -0.008423266532419633\n",
            "target & f_216 Correlation is -0.03628716124911983\n",
            "target & f_217 Correlation is -0.009434439707802129\n",
            "target & f_218 Correlation is -0.013370433858653974\n",
            "target & f_219 Correlation is -0.021997106715065336\n",
            "target & f_220 Correlation is -0.005954364519049613\n",
            "target & f_221 Correlation is 0.015564810975930972\n",
            "target & f_222 Correlation is 0.01414510393878894\n",
            "target & f_223 Correlation is -0.015354706415779094\n",
            "target & f_224 Correlation is -0.02450769371638808\n",
            "target & f_225 Correlation is 0.038865744685570046\n",
            "target & f_226 Correlation is -0.033744182665395035\n",
            "target & f_227 Correlation is -0.004401726515295009\n",
            "target & f_228 Correlation is -0.005114274585093845\n",
            "target & f_229 Correlation is -0.013946343821980494\n",
            "target & f_230 Correlation is -0.0238626775339278\n",
            "target & f_231 Correlation is -0.06204915041083863\n",
            "target & f_232 Correlation is -0.038951089826639224\n",
            "target & f_233 Correlation is -0.03390294250437025\n",
            "target & f_234 Correlation is -0.026226475809548358\n",
            "target & f_235 Correlation is -0.002895695623277443\n",
            "target & f_236 Correlation is -0.014531086990941551\n",
            "target & f_237 Correlation is -0.042687602364608807\n",
            "target & f_238 Correlation is -0.027339408527065234\n",
            "target & f_239 Correlation is -0.02767371588236962\n",
            "target & f_240 Correlation is -0.018996328065682896\n",
            "target & f_241 Correlation is 0.017560084269196797\n",
            "target & f_242 Correlation is 0.011611971655278665\n",
            "target & f_243 Correlation is -0.03967569280530528\n",
            "target & f_244 Correlation is 0.011530516227227694\n",
            "target & f_245 Correlation is -0.02406247891031897\n",
            "target & f_246 Correlation is -0.03694693515549142\n",
            "target & f_247 Correlation is -0.03917033233292323\n",
            "target & f_248 Correlation is -0.0014998497105313583\n",
            "target & f_249 Correlation is -0.02254129847518179\n",
            "target & f_250 Correlation is -0.055838551663121364\n",
            "target & f_251 Correlation is -0.03197093562106622\n",
            "target & f_252 Correlation is -0.022584397077541844\n",
            "target & f_253 Correlation is -0.00990501651888606\n",
            "target & f_254 Correlation is -0.00586739254364772\n",
            "target & f_255 Correlation is -0.04011800187826936\n",
            "target & f_256 Correlation is -0.03376410256082186\n",
            "target & f_257 Correlation is -0.037909188949974346\n",
            "target & f_258 Correlation is 0.001994326704477989\n",
            "target & f_259 Correlation is -0.023759962354393534\n",
            "target & f_260 Correlation is -0.02434120812685508\n",
            "target & f_261 Correlation is -0.01380745474058935\n",
            "target & f_262 Correlation is -0.013429558081468148\n",
            "target & f_263 Correlation is 0.02146892030111965\n",
            "target & f_264 Correlation is 0.03891161003556165\n",
            "target & f_265 Correlation is -0.04730000710020637\n",
            "target & f_266 Correlation is 0.022928656759665607\n",
            "target & f_267 Correlation is 0.016147322284944397\n",
            "target & f_268 Correlation is -0.034036108887797505\n",
            "target & f_269 Correlation is -0.0011707298149945655\n",
            "target & f_270 Correlation is 0.04667010490816234\n",
            "target & f_271 Correlation is -0.027691468230461213\n",
            "target & f_272 Correlation is -0.0021465422543869134\n",
            "target & f_273 Correlation is -0.03590974258603906\n",
            "target & f_274 Correlation is -0.03244184981769871\n",
            "target & f_275 Correlation is -0.005624557111082163\n",
            "target & f_276 Correlation is 0.014485229541791808\n",
            "target & f_277 Correlation is -0.030691832247265353\n",
            "target & f_278 Correlation is -0.005781135891212928\n",
            "target & f_279 Correlation is 0.012359474020673014\n",
            "target & f_280 Correlation is -0.046870098238986656\n",
            "target & f_281 Correlation is -0.029345151219884038\n",
            "target & f_282 Correlation is -0.010307456260178297\n",
            "target & f_283 Correlation is 0.010735966676873673\n",
            "target & f_284 Correlation is -0.01859319182796345\n",
            "target & f_285 Correlation is 0.013206663048250985\n",
            "target & f_286 Correlation is -0.04081216867107686\n",
            "target & f_287 Correlation is -0.025778076110470966\n",
            "target & f_288 Correlation is -0.00780116602948702\n",
            "target & f_289 Correlation is -0.01948910893683351\n",
            "target & f_290 Correlation is 0.023109527323402622\n",
            "target & f_291 Correlation is 0.0008033861378441217\n",
            "target & f_292 Correlation is 0.007383488552833116\n",
            "target & f_293 Correlation is 0.003131100871913956\n",
            "target & f_294 Correlation is -0.013739920988975028\n",
            "target & f_295 Correlation is -0.022055371498027464\n",
            "target & f_296 Correlation is -0.005449640356205768\n",
            "target & f_297 Correlation is -0.04206309955850326\n",
            "target & f_298 Correlation is -0.014584025248232713\n",
            "target & f_299 Correlation is -0.004441588310039914\n"
          ]
        }
      ],
      "source": [
        "# Correlation\n",
        "dic = {}\n",
        "\n",
        "for i in range(0, 300):\n",
        "    corr_f = train[['target', f'f_{i}']].corr().iloc[0,1]\n",
        "    print(f'target & f_{i} Correlation is {corr_f}')\n",
        "    dic[f'f_{i}'] = corr_f\n",
        "\n",
        "del dic"
      ]
    },
    {
      "cell_type": "markdown",
      "id": "7aebb97f",
      "metadata": {
        "papermill": {
          "duration": 0.061488,
          "end_time": "2022-01-20T10:14:27.506351",
          "exception": false,
          "start_time": "2022-01-20T10:14:27.444863",
          "status": "completed"
        },
        "tags": [],
        "id": "7aebb97f"
      },
      "source": [
        "**Step 2 : Correlation & Target -> Groupby investment_id**"
      ]
    },
    {
      "cell_type": "markdown",
      "id": "6f2d335e",
      "metadata": {
        "papermill": {
          "duration": 0.060132,
          "end_time": "2022-01-20T10:14:27.627834",
          "exception": false,
          "start_time": "2022-01-20T10:14:27.567702",
          "status": "completed"
        },
        "tags": [],
        "id": "6f2d335e"
      },
      "source": [
        "each investment_id have different target&f_i relationship."
      ]
    },
    {
      "cell_type": "code",
      "execution_count": null,
      "id": "0ae4ddbb",
      "metadata": {
        "execution": {
          "iopub.execute_input": "2022-01-20T10:14:27.758537Z",
          "iopub.status.busy": "2022-01-20T10:14:27.756945Z",
          "iopub.status.idle": "2022-01-20T10:14:34.938180Z",
          "shell.execute_reply": "2022-01-20T10:14:34.937728Z",
          "shell.execute_reply.started": "2022-01-20T08:38:11.508679Z"
        },
        "papermill": {
          "duration": 7.249895,
          "end_time": "2022-01-20T10:14:34.938308",
          "exception": false,
          "start_time": "2022-01-20T10:14:27.688413",
          "status": "completed"
        },
        "tags": [],
        "id": "0ae4ddbb",
        "outputId": "8ddb2f4a-84ec-4e02-9fda-06e7afdf5361"
      },
      "outputs": [
        {
          "data": {
            "image/png": "[encoded data removed]",
            "text/plain": [
              "<Figure size 360x576 with 2 Axes>"
            ]
          },
          "metadata": {
            "needs_background": "light"
          },
          "output_type": "display_data"
        }
      ],
      "source": [
        "# Correlation - investment_id = 0\n",
        "dic = {}\n",
        "\n",
        "for i in range(0, 300):\n",
        "    corr_f = train[['target', f'f_{i}']][train['investment_id'] == 0].corr().iloc[0,1]\n",
        "    #print(f'target & f_{i} Correlation is {corr_f}')\n",
        "    dic[f'f_{i}'] = corr_f\n",
        "\n",
        "sorted_dict = sorted(dic.items(), key = lambda item: item[1])\n",
        "\n",
        "plt.figure(figsize=(5,8))\n",
        "sns.heatmap(pd.DataFrame(sorted_dict[1:10]).set_index(0).head(30), annot=True)\n",
        "\n",
        "del dic\n",
        "del sorted_dict"
      ]
    },
    {
      "cell_type": "code",
      "execution_count": null,
      "id": "f55de6ed",
      "metadata": {
        "execution": {
          "iopub.execute_input": "2022-01-20T10:14:35.062446Z",
          "iopub.status.busy": "2022-01-20T10:14:35.060982Z",
          "iopub.status.idle": "2022-01-20T10:14:42.396817Z",
          "shell.execute_reply": "2022-01-20T10:14:42.397222Z",
          "shell.execute_reply.started": "2022-01-20T08:38:20.725491Z"
        },
        "papermill": {
          "duration": 7.402957,
          "end_time": "2022-01-20T10:14:42.397380",
          "exception": false,
          "start_time": "2022-01-20T10:14:34.994423",
          "status": "completed"
        },
        "tags": [],
        "id": "f55de6ed",
        "outputId": "0823a956-d728-48f0-ab4d-9e93c6163a08"
      },
      "outputs": [
        {
          "data": {
            "image/png": "[encoded data removed]",
            "text/plain": [
              "<Figure size 360x576 with 2 Axes>"
            ]
          },
          "metadata": {
            "needs_background": "light"
          },
          "output_type": "display_data"
        }
      ],
      "source": [
        "# Correlation - investment_id = 1\n",
        "dic = {}\n",
        "\n",
        "for i in range(0, 300):\n",
        "    corr_f = train[['target', f'f_{i}']][train['investment_id'] == 1].corr().iloc[0,1]\n",
        "    #print(f'target & f_{i} Correlation is {corr_f}')\n",
        "    dic[f'f_{i}'] = corr_f\n",
        "\n",
        "sorted_dict = sorted(dic.items(), key = lambda item: item[1])\n",
        "\n",
        "plt.figure(figsize=(5,8))\n",
        "sns.heatmap(pd.DataFrame(sorted_dict[1:10]).set_index(0).head(30), annot=True)\n",
        "\n",
        "del dic\n",
        "del sorted_dict"
      ]
    },
    {
      "cell_type": "code",
      "execution_count": null,
      "id": "a66138b2",
      "metadata": {
        "execution": {
          "iopub.execute_input": "2022-01-20T10:14:42.513378Z",
          "iopub.status.busy": "2022-01-20T10:14:42.511974Z",
          "iopub.status.idle": "2022-01-20T10:14:49.678547Z",
          "shell.execute_reply": "2022-01-20T10:14:49.677860Z",
          "shell.execute_reply.started": "2022-01-20T08:38:29.926864Z"
        },
        "papermill": {
          "duration": 7.227237,
          "end_time": "2022-01-20T10:14:49.678677",
          "exception": false,
          "start_time": "2022-01-20T10:14:42.451440",
          "status": "completed"
        },
        "tags": [],
        "id": "a66138b2",
        "outputId": "32b3340b-2003-4b25-981a-712d46300011"
      },
      "outputs": [
        {
          "data": {
            "image/png": "[encoded data removed]",
            "text/plain": [
              "<Figure size 360x576 with 2 Axes>"
            ]
          },
          "metadata": {
            "needs_background": "light"
          },
          "output_type": "display_data"
        }
      ],
      "source": [
        "# Correlation - investment_id = 2\n",
        "dic = {}\n",
        "\n",
        "for i in range(0, 300):\n",
        "    corr_f = train[['target', f'f_{i}']][train['investment_id'] == 2].corr().iloc[0,1]\n",
        "    #print(f'target & f_{i} Correlation is {corr_f}')\n",
        "    dic[f'f_{i}'] = corr_f\n",
        "\n",
        "sorted_dict = sorted(dic.items(), key = lambda item: item[1])\n",
        "\n",
        "plt.figure(figsize=(5,8))\n",
        "sns.heatmap(pd.DataFrame(sorted_dict[1:10]).set_index(0).head(30), annot=True)\n",
        "\n",
        "del dic\n",
        "del sorted_dict"
      ]
    },
    {
      "cell_type": "markdown",
      "id": "d46046a8",
      "metadata": {
        "papermill": {
          "duration": 0.058227,
          "end_time": "2022-01-20T10:14:49.796581",
          "exception": false,
          "start_time": "2022-01-20T10:14:49.738354",
          "status": "completed"
        },
        "tags": [],
        "id": "d46046a8"
      },
      "source": [
        "**Step 3 : target's relationship with investment_id**"
      ]
    },
    {
      "cell_type": "markdown",
      "id": "b9b26b7b",
      "metadata": {
        "papermill": {
          "duration": 0.057839,
          "end_time": "2022-01-20T10:14:49.913367",
          "exception": false,
          "start_time": "2022-01-20T10:14:49.855528",
          "status": "completed"
        },
        "tags": [],
        "id": "b9b26b7b"
      },
      "source": [
        "humm... what the fuxk. 😫😨🤯🥵😱😡👿"
      ]
    },
    {
      "cell_type": "code",
      "execution_count": null,
      "id": "7d9e4ff2",
      "metadata": {
        "execution": {
          "iopub.execute_input": "2022-01-20T10:14:50.037696Z",
          "iopub.status.busy": "2022-01-20T10:14:50.036269Z",
          "iopub.status.idle": "2022-01-20T10:14:50.350861Z",
          "shell.execute_reply": "2022-01-20T10:14:50.351275Z",
          "shell.execute_reply.started": "2022-01-20T08:38:39.141435Z"
        },
        "papermill": {
          "duration": 0.379498,
          "end_time": "2022-01-20T10:14:50.351441",
          "exception": false,
          "start_time": "2022-01-20T10:14:49.971943",
          "status": "completed"
        },
        "tags": [],
        "id": "7d9e4ff2",
        "outputId": "b7a9ffe1-c46d-4fce-83c0-21dde3fb058d"
      },
      "outputs": [
        {
          "data": {
            "image/png": "[encoded data removed]",
            "text/plain": [
              "<Figure size 432x288 with 2 Axes>"
            ]
          },
          "metadata": {},
          "output_type": "display_data"
        }
      ],
      "source": [
        "target_invest = train[['target', 'investment_id']].copy()\n",
        "target_invest_corr = target_invest.corr()\n",
        "\n",
        "sns.set_theme()\n",
        "sns.heatmap(target_invest_corr, annot=True)\n",
        "\n",
        "del target_invest\n",
        "del target_invest_corr"
      ]
    },
    {
      "cell_type": "markdown",
      "id": "b76213c8",
      "metadata": {
        "papermill": {
          "duration": 0.054984,
          "end_time": "2022-01-20T10:14:50.461445",
          "exception": false,
          "start_time": "2022-01-20T10:14:50.406461",
          "status": "completed"
        },
        "tags": [],
        "id": "b76213c8"
      },
      "source": [
        "# **Baseline (LGBM & xgboost)**"
      ]
    },
    {
      "cell_type": "markdown",
      "id": "41f080de",
      "metadata": {
        "papermill": {
          "duration": 0.054828,
          "end_time": "2022-01-20T10:14:50.571227",
          "exception": false,
          "start_time": "2022-01-20T10:14:50.516399",
          "status": "completed"
        },
        "tags": [],
        "id": "41f080de"
      },
      "source": [
        "Ok. Lets go to make Baseline 🎈"
      ]
    },
    {
      "cell_type": "code",
      "execution_count": null,
      "id": "998d422e",
      "metadata": {
        "execution": {
          "iopub.execute_input": "2022-01-20T10:14:50.685062Z",
          "iopub.status.busy": "2022-01-20T10:14:50.684567Z",
          "iopub.status.idle": "2022-01-20T10:14:53.074692Z",
          "shell.execute_reply": "2022-01-20T10:14:53.074234Z",
          "shell.execute_reply.started": "2022-01-20T09:38:14.349582Z"
        },
        "papermill": {
          "duration": 2.448351,
          "end_time": "2022-01-20T10:14:53.074827",
          "exception": false,
          "start_time": "2022-01-20T10:14:50.626476",
          "status": "completed"
        },
        "tags": [],
        "id": "998d422e",
        "outputId": "96768548-55be-4561-c5f1-b792d2222b41"
      },
      "outputs": [
        {
          "data": {
            "text/html": [
              "<style type='text/css'>\n",
              ".datatable table.frame { margin-bottom: 0; }\n",
              ".datatable table.frame thead { border-bottom: none; }\n",
              ".datatable table.frame tr.coltypes td {  color: #FFFFFF;  line-height: 6px;  padding: 0 0.5em;}\n",
              ".datatable .bool    { background: #DDDD99; }\n",
              ".datatable .object  { background: #565656; }\n",
              ".datatable .int     { background: #5D9E5D; }\n",
              ".datatable .float   { background: #4040CC; }\n",
              ".datatable .str     { background: #CC4040; }\n",
              ".datatable .time    { background: #40CC40; }\n",
              ".datatable .row_index {  background: var(--jp-border-color3);  border-right: 1px solid var(--jp-border-color0);  color: var(--jp-ui-font-color3);  font-size: 9px;}\n",
              ".datatable .frame tbody td { text-align: left; }\n",
              ".datatable .frame tr.coltypes .row_index {  background: var(--jp-border-color0);}\n",
              ".datatable th:nth-child(2) { padding-left: 12px; }\n",
              ".datatable .hellipsis {  color: var(--jp-cell-editor-border-color);}\n",
              ".datatable .vellipsis {  background: var(--jp-layout-color0);  color: var(--jp-cell-editor-border-color);}\n",
              ".datatable .na {  color: var(--jp-cell-editor-border-color);  font-size: 80%;}\n",
              ".datatable .sp {  opacity: 0.25;}\n",
              ".datatable .footer { font-size: 9px; }\n",
              ".datatable .frame_dimensions {  background: var(--jp-border-color3);  border-top: 1px solid var(--jp-border-color0);  color: var(--jp-ui-font-color3);  display: inline-block;  opacity: 0.6;  padding: 1px 10px 1px 5px;}\n",
              "</style>\n"
            ],
            "text/plain": [
              "<IPython.core.display.HTML object>"
            ]
          },
          "metadata": {},
          "output_type": "display_data"
        }
      ],
      "source": [
        "import lightgbm\n",
        "import xgboost\n",
        "from sklearn.model_selection import train_test_split"
      ]
    },
    {
      "cell_type": "code",
      "execution_count": null,
      "id": "9db551f6",
      "metadata": {
        "execution": {
          "iopub.execute_input": "2022-01-20T10:14:53.200394Z",
          "iopub.status.busy": "2022-01-20T10:14:53.199165Z",
          "iopub.status.idle": "2022-01-20T10:14:55.421379Z",
          "shell.execute_reply": "2022-01-20T10:14:55.422167Z",
          "shell.execute_reply.started": "2022-01-20T09:38:16.513181Z"
        },
        "papermill": {
          "duration": 2.291176,
          "end_time": "2022-01-20T10:14:55.422371",
          "exception": false,
          "start_time": "2022-01-20T10:14:53.131195",
          "status": "completed"
        },
        "tags": [],
        "id": "9db551f6",
        "outputId": "e6aacb29-eef4-411a-842a-43caa70aac52"
      },
      "outputs": [
        {
          "data": {
            "text/html": [
              "<div>\n",
              "<style scoped>\n",
              "    .dataframe tbody tr th:only-of-type {\n",
              "        vertical-align: middle;\n",
              "    }\n",
              "\n",
              "    .dataframe tbody tr th {\n",
              "        vertical-align: top;\n",
              "    }\n",
              "\n",
              "    .dataframe thead th {\n",
              "        text-align: right;\n",
              "    }\n",
              "</style>\n",
              "<table border=\"1\" class=\"dataframe\">\n",
              "  <thead>\n",
              "    <tr style=\"text-align: right;\">\n",
              "      <th></th>\n",
              "      <th>investment_id</th>\n",
              "      <th>f_0</th>\n",
              "      <th>f_1</th>\n",
              "      <th>f_2</th>\n",
              "      <th>f_3</th>\n",
              "      <th>f_4</th>\n",
              "      <th>f_5</th>\n",
              "      <th>f_6</th>\n",
              "      <th>f_7</th>\n",
              "      <th>f_8</th>\n",
              "      <th>...</th>\n",
              "      <th>f_290</th>\n",
              "      <th>f_291</th>\n",
              "      <th>f_292</th>\n",
              "      <th>f_293</th>\n",
              "      <th>f_294</th>\n",
              "      <th>f_295</th>\n",
              "      <th>f_296</th>\n",
              "      <th>f_297</th>\n",
              "      <th>f_298</th>\n",
              "      <th>f_299</th>\n",
              "    </tr>\n",
              "  </thead>\n",
              "  <tbody>\n",
              "    <tr>\n",
              "      <th>0</th>\n",
              "      <td>1.0</td>\n",
              "      <td>0.932617</td>\n",
              "      <td>0.113708</td>\n",
              "      <td>-0.402100</td>\n",
              "      <td>0.378418</td>\n",
              "      <td>-0.203979</td>\n",
              "      <td>-0.413574</td>\n",
              "      <td>0.965820</td>\n",
              "      <td>1.230469</td>\n",
              "      <td>0.114807</td>\n",
              "      <td>...</td>\n",
              "      <td>0.365967</td>\n",
              "      <td>-1.095703</td>\n",
              "      <td>0.200073</td>\n",
              "      <td>0.819336</td>\n",
              "      <td>0.941406</td>\n",
              "      <td>-0.086792</td>\n",
              "      <td>-1.086914</td>\n",
              "      <td>-1.044922</td>\n",
              "      <td>-0.287598</td>\n",
              "      <td>0.321533</td>\n",
              "    </tr>\n",
              "    <tr>\n",
              "      <th>1</th>\n",
              "      <td>2.0</td>\n",
              "      <td>0.811035</td>\n",
              "      <td>-0.514160</td>\n",
              "      <td>0.742188</td>\n",
              "      <td>-0.616699</td>\n",
              "      <td>-0.194214</td>\n",
              "      <td>1.771484</td>\n",
              "      <td>1.427734</td>\n",
              "      <td>1.133789</td>\n",
              "      <td>0.114807</td>\n",
              "      <td>...</td>\n",
              "      <td>-0.154175</td>\n",
              "      <td>0.912598</td>\n",
              "      <td>-0.734375</td>\n",
              "      <td>0.819336</td>\n",
              "      <td>0.941406</td>\n",
              "      <td>-0.387695</td>\n",
              "      <td>-1.086914</td>\n",
              "      <td>-0.929688</td>\n",
              "      <td>-0.974121</td>\n",
              "      <td>-0.343506</td>\n",
              "    </tr>\n",
              "    <tr>\n",
              "      <th>2</th>\n",
              "      <td>6.0</td>\n",
              "      <td>0.394043</td>\n",
              "      <td>0.615723</td>\n",
              "      <td>0.567871</td>\n",
              "      <td>-0.607910</td>\n",
              "      <td>0.068909</td>\n",
              "      <td>-1.083008</td>\n",
              "      <td>0.979492</td>\n",
              "      <td>-1.125977</td>\n",
              "      <td>0.114807</td>\n",
              "      <td>...</td>\n",
              "      <td>-0.138062</td>\n",
              "      <td>0.912598</td>\n",
              "      <td>-0.551758</td>\n",
              "      <td>-1.220703</td>\n",
              "      <td>-1.060547</td>\n",
              "      <td>-0.219116</td>\n",
              "      <td>-1.086914</td>\n",
              "      <td>-0.612305</td>\n",
              "      <td>-0.113953</td>\n",
              "      <td>0.243652</td>\n",
              "    </tr>\n",
              "    <tr>\n",
              "      <th>3</th>\n",
              "      <td>7.0</td>\n",
              "      <td>-2.343750</td>\n",
              "      <td>-0.011871</td>\n",
              "      <td>1.875000</td>\n",
              "      <td>-0.606445</td>\n",
              "      <td>-0.586914</td>\n",
              "      <td>-0.815918</td>\n",
              "      <td>0.778320</td>\n",
              "      <td>0.299072</td>\n",
              "      <td>0.114807</td>\n",
              "      <td>...</td>\n",
              "      <td>0.382080</td>\n",
              "      <td>0.912598</td>\n",
              "      <td>-0.266357</td>\n",
              "      <td>-1.220703</td>\n",
              "      <td>0.941406</td>\n",
              "      <td>-0.608887</td>\n",
              "      <td>0.104919</td>\n",
              "      <td>-0.783203</td>\n",
              "      <td>1.151367</td>\n",
              "      <td>-0.773438</td>\n",
              "    </tr>\n",
              "    <tr>\n",
              "      <th>4</th>\n",
              "      <td>8.0</td>\n",
              "      <td>0.842285</td>\n",
              "      <td>-0.262939</td>\n",
              "      <td>2.330078</td>\n",
              "      <td>-0.583496</td>\n",
              "      <td>-0.618164</td>\n",
              "      <td>-0.742676</td>\n",
              "      <td>-0.946777</td>\n",
              "      <td>1.230469</td>\n",
              "      <td>0.114807</td>\n",
              "      <td>...</td>\n",
              "      <td>-0.170410</td>\n",
              "      <td>0.912598</td>\n",
              "      <td>-0.741211</td>\n",
              "      <td>-1.220703</td>\n",
              "      <td>0.941406</td>\n",
              "      <td>-0.588379</td>\n",
              "      <td>0.104919</td>\n",
              "      <td>0.753418</td>\n",
              "      <td>1.345703</td>\n",
              "      <td>-0.737793</td>\n",
              "    </tr>\n",
              "  </tbody>\n",
              "</table>\n",
              "<p>5 rows × 301 columns</p>\n",
              "</div>"
            ],
            "text/plain": [
              "   investment_id       f_0       f_1       f_2       f_3       f_4       f_5  \\\n",
              "0            1.0  0.932617  0.113708 -0.402100  0.378418 -0.203979 -0.413574   \n",
              "1            2.0  0.811035 -0.514160  0.742188 -0.616699 -0.194214  1.771484   \n",
              "2            6.0  0.394043  0.615723  0.567871 -0.607910  0.068909 -1.083008   \n",
              "3            7.0 -2.343750 -0.011871  1.875000 -0.606445 -0.586914 -0.815918   \n",
              "4            8.0  0.842285 -0.262939  2.330078 -0.583496 -0.618164 -0.742676   \n",
              "\n",
              "        f_6       f_7       f_8  ...     f_290     f_291     f_292     f_293  \\\n",
              "0  0.965820  1.230469  0.114807  ...  0.365967 -1.095703  0.200073  0.819336   \n",
              "1  1.427734  1.133789  0.114807  ... -0.154175  0.912598 -0.734375  0.819336   \n",
              "2  0.979492 -1.125977  0.114807  ... -0.138062  0.912598 -0.551758 -1.220703   \n",
              "3  0.778320  0.299072  0.114807  ...  0.382080  0.912598 -0.266357 -1.220703   \n",
              "4 -0.946777  1.230469  0.114807  ... -0.170410  0.912598 -0.741211 -1.220703   \n",
              "\n",
              "      f_294     f_295     f_296     f_297     f_298     f_299  \n",
              "0  0.941406 -0.086792 -1.086914 -1.044922 -0.287598  0.321533  \n",
              "1  0.941406 -0.387695 -1.086914 -0.929688 -0.974121 -0.343506  \n",
              "2 -1.060547 -0.219116 -1.086914 -0.612305 -0.113953  0.243652  \n",
              "3  0.941406 -0.608887  0.104919 -0.783203  1.151367 -0.773438  \n",
              "4  0.941406 -0.588379  0.104919  0.753418  1.345703 -0.737793  \n",
              "\n",
              "[5 rows x 301 columns]"
            ]
          },
          "metadata": {},
          "output_type": "display_data"
        },
        {
          "data": {
            "text/plain": [
              "0   -0.300781\n",
              "1   -0.231079\n",
              "2    0.568848\n",
              "3   -1.064453\n",
              "4   -0.531738\n",
              "Name: target, dtype: float16"
            ]
          },
          "metadata": {},
          "output_type": "display_data"
        }
      ],
      "source": [
        "x = train.drop(['row_id', 'time_id', 'target'], axis=1).copy()\n",
        "y = train.target\n",
        "display(x.head())\n",
        "display(y.head())"
      ]
    },
    {
      "cell_type": "markdown",
      "id": "2425369d",
      "metadata": {
        "papermill": {
          "duration": 0.06136,
          "end_time": "2022-01-20T10:14:55.565978",
          "exception": false,
          "start_time": "2022-01-20T10:14:55.504618",
          "status": "completed"
        },
        "tags": [],
        "id": "2425369d"
      },
      "source": [
        "split train/test -> train/val/test"
      ]
    },
    {
      "cell_type": "code",
      "execution_count": null,
      "id": "1467c610",
      "metadata": {
        "execution": {
          "iopub.execute_input": "2022-01-20T10:14:55.692149Z",
          "iopub.status.busy": "2022-01-20T10:14:55.691634Z",
          "iopub.status.idle": "2022-01-20T10:14:55.696575Z",
          "shell.execute_reply": "2022-01-20T10:14:55.696006Z",
          "shell.execute_reply.started": "2022-01-20T09:38:21.451469Z"
        },
        "papermill": {
          "duration": 0.069721,
          "end_time": "2022-01-20T10:14:55.696718",
          "exception": false,
          "start_time": "2022-01-20T10:14:55.626997",
          "status": "completed"
        },
        "tags": [],
        "id": "1467c610",
        "outputId": "986ad009-2a60-460e-ee11-cd69ae397b5e"
      },
      "outputs": [
        {
          "name": "stdout",
          "output_type": "stream",
          "text": [
            "train : 2513128 / val : 314141 / test : 314141\n"
          ]
        }
      ],
      "source": [
        "line = len(train)//10\n",
        "x_test = x[:line]\n",
        "y_test = y[:line]\n",
        "x_val = x[line:line*2]\n",
        "y_val = y[line:line*2]\n",
        "x_train = x[line*2:]\n",
        "y_train = y[line*2:]\n",
        "\n",
        "print(f'train : {len(x_train)} / val : {len(x_val)} / test : {len(x_test)}')"
      ]
    },
    {
      "cell_type": "markdown",
      "id": "c7d8096b",
      "metadata": {
        "papermill": {
          "duration": 0.057,
          "end_time": "2022-01-20T10:14:55.813141",
          "exception": false,
          "start_time": "2022-01-20T10:14:55.756141",
          "status": "completed"
        },
        "tags": [],
        "id": "c7d8096b"
      },
      "source": [
        "**LGBM model**"
      ]
    },
    {
      "cell_type": "code",
      "execution_count": null,
      "id": "e0dbc36c",
      "metadata": {
        "execution": {
          "iopub.execute_input": "2022-01-20T10:14:55.931167Z",
          "iopub.status.busy": "2022-01-20T10:14:55.930477Z",
          "iopub.status.idle": "2022-01-20T10:14:55.932754Z",
          "shell.execute_reply": "2022-01-20T10:14:55.933139Z",
          "shell.execute_reply.started": "2022-01-20T09:38:21.460923Z"
        },
        "papermill": {
          "duration": 0.062931,
          "end_time": "2022-01-20T10:14:55.933265",
          "exception": false,
          "start_time": "2022-01-20T10:14:55.870334",
          "status": "completed"
        },
        "tags": [],
        "id": "e0dbc36c"
      },
      "outputs": [],
      "source": [
        "train_ds = lightgbm.Dataset(x_train, label = y_train) \n",
        "val_ds = lightgbm.Dataset(x_val, label = y_val) "
      ]
    },
    {
      "cell_type": "code",
      "execution_count": null,
      "id": "eb9f73d0",
      "metadata": {
        "execution": {
          "iopub.execute_input": "2022-01-20T10:14:56.052055Z",
          "iopub.status.busy": "2022-01-20T10:14:56.050491Z",
          "iopub.status.idle": "2022-01-20T10:14:56.052660Z",
          "shell.execute_reply": "2022-01-20T10:14:56.053057Z",
          "shell.execute_reply.started": "2022-01-20T09:38:21.468522Z"
        },
        "papermill": {
          "duration": 0.063517,
          "end_time": "2022-01-20T10:14:56.053202",
          "exception": false,
          "start_time": "2022-01-20T10:14:55.989685",
          "status": "completed"
        },
        "tags": [],
        "id": "eb9f73d0"
      },
      "outputs": [],
      "source": [
        "params = {'learning_rate': 0.01, \n",
        "          'max_depth': 5, \n",
        "          'objective': 'regression', \n",
        "          'metric': 'mse', \n",
        "          'is_training_metric': True, \n",
        "          'num_leaves': 144}"
      ]
    },
    {
      "cell_type": "code",
      "execution_count": null,
      "id": "1355404a",
      "metadata": {
        "execution": {
          "iopub.execute_input": "2022-01-20T10:14:56.177744Z",
          "iopub.status.busy": "2022-01-20T10:14:56.176033Z",
          "iopub.status.idle": "2022-01-20T10:19:23.714538Z",
          "shell.execute_reply": "2022-01-20T10:19:23.715590Z",
          "shell.execute_reply.started": "2022-01-20T09:54:52.774833Z"
        },
        "papermill": {
          "duration": 267.6051,
          "end_time": "2022-01-20T10:19:23.715821",
          "exception": false,
          "start_time": "2022-01-20T10:14:56.110721",
          "status": "completed"
        },
        "tags": [],
        "id": "1355404a",
        "outputId": "0db6c541-0de0-4999-b6dc-df858f3d78fa"
      },
      "outputs": [
        {
          "name": "stdout",
          "output_type": "stream",
          "text": [
            "[LightGBM] [Warning] Auto-choosing col-wise multi-threading, the overhead of testing was 8.128062 seconds.\n",
            "You can set `force_col_wise=true` to remove the overhead.\n",
            "[LightGBM] [Info] Total Bins 76755\n",
            "[LightGBM] [Info] Number of data points in the train set: 2513128, number of used features: 301\n",
            "[LightGBM] [Info] Start training from score -0.020118\n",
            "[1]\tvalid_0's l2: 0.857889\n",
            "[2]\tvalid_0's l2: 0.857739\n",
            "[3]\tvalid_0's l2: 0.857591\n",
            "[4]\tvalid_0's l2: 0.857444\n",
            "[5]\tvalid_0's l2: 0.857305\n",
            "[6]\tvalid_0's l2: 0.857179\n",
            "[7]\tvalid_0's l2: 0.857043\n",
            "[8]\tvalid_0's l2: 0.856921\n",
            "[9]\tvalid_0's l2: 0.856792\n",
            "[10]\tvalid_0's l2: 0.856665\n",
            "[11]\tvalid_0's l2: 0.856543\n",
            "[12]\tvalid_0's l2: 0.85642\n",
            "[13]\tvalid_0's l2: 0.856312\n",
            "[14]\tvalid_0's l2: 0.8562\n",
            "[15]\tvalid_0's l2: 0.856087\n",
            "[16]\tvalid_0's l2: 0.855976\n",
            "[17]\tvalid_0's l2: 0.855873\n",
            "[18]\tvalid_0's l2: 0.855769\n",
            "[19]\tvalid_0's l2: 0.855664\n",
            "[20]\tvalid_0's l2: 0.855565\n",
            "[21]\tvalid_0's l2: 0.855457\n",
            "[22]\tvalid_0's l2: 0.855355\n",
            "[23]\tvalid_0's l2: 0.855259\n",
            "[24]\tvalid_0's l2: 0.855163\n",
            "[25]\tvalid_0's l2: 0.855062\n",
            "[26]\tvalid_0's l2: 0.854975\n",
            "[27]\tvalid_0's l2: 0.854881\n",
            "[28]\tvalid_0's l2: 0.854798\n",
            "[29]\tvalid_0's l2: 0.854704\n",
            "[30]\tvalid_0's l2: 0.854621\n",
            "[31]\tvalid_0's l2: 0.85453\n",
            "[32]\tvalid_0's l2: 0.85444\n",
            "[33]\tvalid_0's l2: 0.854356\n",
            "[34]\tvalid_0's l2: 0.854274\n",
            "[35]\tvalid_0's l2: 0.854192\n",
            "[36]\tvalid_0's l2: 0.854112\n",
            "[37]\tvalid_0's l2: 0.854033\n",
            "[38]\tvalid_0's l2: 0.853955\n",
            "[39]\tvalid_0's l2: 0.853884\n",
            "[40]\tvalid_0's l2: 0.85381\n",
            "[41]\tvalid_0's l2: 0.853741\n",
            "[42]\tvalid_0's l2: 0.853663\n",
            "[43]\tvalid_0's l2: 0.853594\n",
            "[44]\tvalid_0's l2: 0.85353\n",
            "[45]\tvalid_0's l2: 0.853461\n",
            "[46]\tvalid_0's l2: 0.853388\n",
            "[47]\tvalid_0's l2: 0.853316\n",
            "[48]\tvalid_0's l2: 0.853246\n",
            "[49]\tvalid_0's l2: 0.853185\n",
            "[50]\tvalid_0's l2: 0.853117\n",
            "[51]\tvalid_0's l2: 0.85305\n",
            "[52]\tvalid_0's l2: 0.852986\n",
            "[53]\tvalid_0's l2: 0.852924\n",
            "[54]\tvalid_0's l2: 0.852858\n",
            "[55]\tvalid_0's l2: 0.852798\n",
            "[56]\tvalid_0's l2: 0.852741\n",
            "[57]\tvalid_0's l2: 0.852688\n",
            "[58]\tvalid_0's l2: 0.852631\n",
            "[59]\tvalid_0's l2: 0.852571\n",
            "[60]\tvalid_0's l2: 0.85252\n",
            "[61]\tvalid_0's l2: 0.852465\n",
            "[62]\tvalid_0's l2: 0.852417\n",
            "[63]\tvalid_0's l2: 0.852368\n",
            "[64]\tvalid_0's l2: 0.852324\n",
            "[65]\tvalid_0's l2: 0.852271\n",
            "[66]\tvalid_0's l2: 0.852223\n",
            "[67]\tvalid_0's l2: 0.852171\n",
            "[68]\tvalid_0's l2: 0.85213\n",
            "[69]\tvalid_0's l2: 0.852084\n",
            "[70]\tvalid_0's l2: 0.852029\n",
            "[71]\tvalid_0's l2: 0.851983\n",
            "[72]\tvalid_0's l2: 0.851939\n",
            "[73]\tvalid_0's l2: 0.851889\n",
            "[74]\tvalid_0's l2: 0.85184\n",
            "[75]\tvalid_0's l2: 0.851797\n",
            "[76]\tvalid_0's l2: 0.851751\n",
            "[77]\tvalid_0's l2: 0.851708\n",
            "[78]\tvalid_0's l2: 0.851668\n",
            "[79]\tvalid_0's l2: 0.851627\n",
            "[80]\tvalid_0's l2: 0.851578\n",
            "[81]\tvalid_0's l2: 0.851541\n",
            "[82]\tvalid_0's l2: 0.851489\n",
            "[83]\tvalid_0's l2: 0.851443\n",
            "[84]\tvalid_0's l2: 0.851404\n",
            "[85]\tvalid_0's l2: 0.851359\n",
            "[86]\tvalid_0's l2: 0.851314\n",
            "[87]\tvalid_0's l2: 0.851263\n",
            "[88]\tvalid_0's l2: 0.851219\n",
            "[89]\tvalid_0's l2: 0.85118\n",
            "[90]\tvalid_0's l2: 0.851133\n",
            "[91]\tvalid_0's l2: 0.851097\n",
            "[92]\tvalid_0's l2: 0.851052\n",
            "[93]\tvalid_0's l2: 0.851003\n",
            "[94]\tvalid_0's l2: 0.850963\n",
            "[95]\tvalid_0's l2: 0.850921\n",
            "[96]\tvalid_0's l2: 0.850877\n",
            "[97]\tvalid_0's l2: 0.850833\n",
            "[98]\tvalid_0's l2: 0.850793\n",
            "[99]\tvalid_0's l2: 0.85076\n",
            "[100]\tvalid_0's l2: 0.850726\n"
          ]
        }
      ],
      "source": [
        "model = lightgbm.train(params, train_ds, 100, val_ds)"
      ]
    },
    {
      "cell_type": "code",
      "execution_count": null,
      "id": "089dd033",
      "metadata": {
        "execution": {
          "iopub.execute_input": "2022-01-20T10:19:23.892501Z",
          "iopub.status.busy": "2022-01-20T10:19:23.890676Z",
          "iopub.status.idle": "2022-01-20T10:19:25.763005Z",
          "shell.execute_reply": "2022-01-20T10:19:25.763827Z",
          "shell.execute_reply.started": "2022-01-20T10:03:53.699594Z"
        },
        "papermill": {
          "duration": 1.96276,
          "end_time": "2022-01-20T10:19:25.764011",
          "exception": false,
          "start_time": "2022-01-20T10:19:23.801251",
          "status": "completed"
        },
        "tags": [],
        "id": "089dd033",
        "outputId": "6e3a2fa3-936d-437c-8f1a-9fd4c7180b52"
      },
      "outputs": [
        {
          "name": "stdout",
          "output_type": "stream",
          "text": [
            "model mse is 0.8744314977417298\n"
          ]
        }
      ],
      "source": [
        "from sklearn.metrics import mean_squared_error\n",
        "from sklearn.metrics import accuracy_score\n",
        "\n",
        "prediction = model.predict(x_test)\n",
        "mse = mean_squared_error(y_test, prediction)\n",
        "print(f'model mse is {mse}')"
      ]
    },
    {
      "cell_type": "code",
      "execution_count": null,
      "id": "f5f3453d",
      "metadata": {
        "execution": {
          "iopub.execute_input": "2022-01-20T10:19:25.945939Z",
          "iopub.status.busy": "2022-01-20T10:19:25.945413Z",
          "iopub.status.idle": "2022-01-20T10:19:26.050256Z",
          "shell.execute_reply": "2022-01-20T10:19:26.051117Z",
          "shell.execute_reply.started": "2022-01-20T10:08:06.368598Z"
        },
        "papermill": {
          "duration": 0.202421,
          "end_time": "2022-01-20T10:19:26.051284",
          "exception": false,
          "start_time": "2022-01-20T10:19:25.848863",
          "status": "completed"
        },
        "tags": [],
        "id": "f5f3453d",
        "outputId": "508ccc7c-82de-4b78-d424-117dd17be4c9"
      },
      "outputs": [
        {
          "name": "stdout",
          "output_type": "stream",
          "text": [
            "This version of the API is not optimized and should not be used to estimate the runtime of your code on the hidden test set.\n"
          ]
        }
      ],
      "source": [
        "import ubiquant\n",
        "env = ubiquant.make_env()  \n",
        "iter_test = env.iter_test()\n",
        "for (test_df, sample_prediction_df) in iter_test:\n",
        "    test_df.drop(['row_id'], axis=1, inplace=True)\n",
        "    pred = model.predict(test_df)\n",
        "    sample_prediction_df['target'] = pred\n",
        "    env.predict(sample_prediction_df) "
      ]
    }
  ],
  "metadata": {
    "kernelspec": {
      "display_name": "Python 3",
      "language": "python",
      "name": "python3"
    },
    "language_info": {
      "codemirror_mode": {
        "name": "ipython",
        "version": 3
      },
      "file_extension": ".py",
      "mimetype": "text/x-python",
      "name": "python",
      "nbconvert_exporter": "python",
      "pygments_lexer": "ipython3",
      "version": "3.7.12"
    },
    "papermill": {
      "default_parameters": {},
      "duration": 624.199488,
      "end_time": "2022-01-20T10:19:27.354137",
      "environment_variables": {},
      "exception": null,
      "input_path": "__notebook__.ipynb",
      "output_path": "__notebook__.ipynb",
      "parameters": {},
      "start_time": "2022-01-20T10:09:03.154649",
      "version": "2.3.3"
    },
    "colab": {
      "name": "Check_correlation&Baseline_lgbm(Bronze_Medal)",
      "provenance": [],
      "include_colab_link": true
    }
  },
  "nbformat": 4,
  "nbformat_minor": 5
}